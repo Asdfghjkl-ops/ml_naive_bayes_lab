{
 "cells": [
  {
   "cell_type": "code",
   "execution_count": 5,
   "metadata": {},
   "outputs": [],
   "source": [
    "#data directory\n",
    "data_dir=\"../data_ml_2020/movies_reviews\""
   ]
  },
  {
   "cell_type": "code",
   "execution_count": 6,
   "metadata": {},
   "outputs": [
    {
     "name": "stdout",
     "output_type": "stream",
     "text": [
      "['neg', 'pos']\n"
     ]
    }
   ],
   "source": [
    "#check if data directory is correct\n",
    "import os\n",
    "cwd = os.getcwd()\n",
    "os.chdir(cwd)\n",
    "print(os.listdir(data_dir))"
   ]
  },
  {
   "cell_type": "code",
   "execution_count": 7,
   "metadata": {},
   "outputs": [],
   "source": [
    "neg=[]\n",
    "neg_path=data_dir+\"/neg/\"\n",
    "for path in os.listdir(neg_path):\n",
    "    f = open(neg_path+path, \"r\")\n",
    "    neg.append(f.read())\n",
    "pos=[]\n",
    "pos_path=data_dir+\"/pos/\"\n",
    "for path in os.listdir(pos_path):\n",
    "    f = open(pos_path+path, \"r\")\n",
    "    pos.append(f.read())"
   ]
  },
  {
   "cell_type": "code",
   "execution_count": 29,
   "metadata": {
    "scrolled": false
   },
   "outputs": [],
   "source": [
    "positive_test=pos[:5]\n",
    "negative_test=neg[:5]"
   ]
  },
  {
   "cell_type": "code",
   "execution_count": 24,
   "metadata": {},
   "outputs": [],
   "source": [
    "from sklearn.feature_extraction.text import CountVectorizer\n",
    "from sklearn.feature_extraction.text import TfidfTransformer\n"
   ]
  },
  {
   "cell_type": "code",
   "execution_count": 100,
   "metadata": {},
   "outputs": [
    {
     "name": "stdout",
     "output_type": "stream",
     "text": [
      "5\n"
     ]
    }
   ],
   "source": [
    "count_vect = CountVectorizer()\n",
    "neg_train_tf = count_vect.fit_transform(neg)\n",
    "tfidf_transformer = TfidfTransformer()\n",
    "neg_train_tfidf = tfidf_transformer.fit_transform(count_vect.fit_transform(negative_test))\n",
    "print(neg_train_tfidf.toarray())"
   ]
  },
  {
   "cell_type": "code",
   "execution_count": 27,
   "metadata": {},
   "outputs": [
    {
     "name": "stdout",
     "output_type": "stream",
     "text": [
      "[[0.0266221  0.         0.0266221  ... 0.05074229 0.         0.        ]\n",
      " [0.         0.         0.         ... 0.02474427 0.         0.        ]\n",
      " [0.         0.         0.         ... 0.05447851 0.         0.        ]\n",
      " [0.         0.01801002 0.         ... 0.01716374 0.01801002 0.02906073]\n",
      " [0.         0.         0.         ... 0.07452017 0.         0.02102894]]\n"
     ]
    }
   ],
   "source": [
    "count_vect = CountVectorizer()\n",
    "pos_train_tf = count_vect.fit_transform(pos)\n",
    "tfidf_transformer = TfidfTransformer()\n",
    "pos_train_tfidf = tfidf_transformer.fit_transform(count_vect.fit_transform(positive_test))\n",
    "print(pos_train_tfidf.toarray())"
   ]
  },
  {
   "cell_type": "code",
   "execution_count": 53,
   "metadata": {},
   "outputs": [
    {
     "name": "stdout",
     "output_type": "stream",
     "text": [
      "(2005,)\n",
      "(2005,)\n"
     ]
    }
   ],
   "source": [
    "import numpy as np\n",
    "Y=np.ones((len(neg),))\n",
    "Y=np.concatenate((Y, np.zeros((len(pos),))))\n",
    "X=np.concatenate((neg,pos))\n",
    "print(Y.shape)\n",
    "print(X.shape)"
   ]
  },
  {
   "cell_type": "code",
   "execution_count": 109,
   "metadata": {},
   "outputs": [
    {
     "name": "stdout",
     "output_type": "stream",
     "text": [
      "(1503,)\n",
      "(502,)\n",
      "(1503,)\n",
      "(502,)\n"
     ]
    }
   ],
   "source": [
    "from sklearn.model_selection import train_test_split\n",
    "X_train, X_test, Y_train, Y_test = train_test_split(X, Y, test_size=0.25, random_state=35)\n",
    "print(X_train.shape)\n",
    "print(X_test.shape)\n",
    "print(Y_train.shape)\n",
    "print(Y_test.shape)"
   ]
  },
  {
   "cell_type": "code",
   "execution_count": 110,
   "metadata": {},
   "outputs": [
    {
     "name": "stdout",
     "output_type": "stream",
     "text": [
      "(502, 21477)\n",
      "(1503, 21477)\n"
     ]
    }
   ],
   "source": [
    "count_vect = CountVectorizer()\n",
    "tfidf_transformer=TfidfTransformer()\n",
    "X_test_count=count_vect.fit_transform(X_test)\n",
    "X_test_tfidf=tfidf_transformer.fit_transform(X_test_count)\n",
    "X_train_count=count_vect.transform(X_train)\n",
    "X_train_tfidf=tfidf_transformer.transform(X_train_count)\n",
    "print(X_test_tfidf.shape)\n",
    "print(X_train_tfidf.shape)"
   ]
  },
  {
   "cell_type": "code",
   "execution_count": 111,
   "metadata": {},
   "outputs": [
    {
     "name": "stdout",
     "output_type": "stream",
     "text": [
      "(1503, 21477)\n",
      "(1503,)\n",
      "0.9514304723885563\n"
     ]
    }
   ],
   "source": [
    "#training accuracy and learning\n",
    "from sklearn.naive_bayes import MultinomialNB  #Use this because its for text\n",
    "clf = MultinomialNB()\n",
    "clf.fit(X_train_tfidf, Y_train)\n",
    "print(X_train_tfidf.shape)\n",
    "print(Y_train.shape)\n",
    "train=clf.score(X_train_tfidf, Y_train)\n",
    "print(train)"
   ]
  },
  {
   "cell_type": "code",
   "execution_count": 112,
   "metadata": {},
   "outputs": [
    {
     "name": "stdout",
     "output_type": "stream",
     "text": [
      "0.8087649402390438\n"
     ]
    }
   ],
   "source": [
    "count_vect = CountVectorizer()\n",
    "testscore=clf.score(X_test_tfidf,Y_test)\n",
    "print(testscore)"
   ]
  }
 ],
 "metadata": {
  "kernelspec": {
   "display_name": "Python 3",
   "language": "python",
   "name": "python3"
  },
  "language_info": {
   "codemirror_mode": {
    "name": "ipython",
    "version": 3
   },
   "file_extension": ".py",
   "mimetype": "text/x-python",
   "name": "python",
   "nbconvert_exporter": "python",
   "pygments_lexer": "ipython3",
   "version": "3.8.3"
  }
 },
 "nbformat": 4,
 "nbformat_minor": 4
}
